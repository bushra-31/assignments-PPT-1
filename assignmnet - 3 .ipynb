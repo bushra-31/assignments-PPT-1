{
 "cells": [
  {
   "cell_type": "markdown",
   "id": "5f54f5ae",
   "metadata": {},
   "source": [
    "#### 1. Why are functions advantageous to have in your programs?"
   ]
  },
  {
   "cell_type": "markdown",
   "id": "d9c181f8",
   "metadata": {},
   "source": [
    "- functions are very handy when writing big programs , they make our code user friendly , reusable , shorter .\n",
    "- they make code easy to access , update  , chrisp to use .\n",
    "- they reduce the need to rewrite same code again and again"
   ]
  },
  {
   "cell_type": "markdown",
   "id": "7b90b91b",
   "metadata": {},
   "source": [
    "#### 2. When does the code in a function run: when it's specified or when it's called?"
   ]
  },
  {
   "cell_type": "markdown",
   "id": "1bf52820",
   "metadata": {},
   "source": [
    "- The code in a function executes when the function is called, not when the function is defined.\n",
    "\n"
   ]
  },
  {
   "cell_type": "markdown",
   "id": "8a86a7e1",
   "metadata": {},
   "source": [
    "#### 3 . What statement creates a function?\n",
    "\n"
   ]
  },
  {
   "cell_type": "markdown",
   "id": "72261444",
   "metadata": {},
   "source": [
    "- The \"def:\" keyword defines a function "
   ]
  },
  {
   "cell_type": "markdown",
   "id": "02f3e990",
   "metadata": {},
   "source": [
    "#### 4 . What is the difference between a function and a function call?"
   ]
  },
  {
   "cell_type": "markdown",
   "id": "d134904d",
   "metadata": {},
   "source": [
    "- A function is defined by def: keyword and code is written with in the function clause .\n",
    "- A function is called during the execution of the program and it return the value of the function called ."
   ]
  },
  {
   "cell_type": "markdown",
   "id": "8396e1a6",
   "metadata": {},
   "source": [
    "#### 5. How many global scopes are there in a Python program? How many local scopes?\n",
    "\n"
   ]
  },
  {
   "cell_type": "markdown",
   "id": "ded8ae44",
   "metadata": {},
   "source": [
    "- There is one global scope, and a local scope is created whenever a function is called."
   ]
  },
  {
   "cell_type": "markdown",
   "id": "5af70190",
   "metadata": {},
   "source": [
    "#### 6 . What happens to variables in a local scope when the function call returns?"
   ]
  },
  {
   "cell_type": "markdown",
   "id": "54ea66bb",
   "metadata": {},
   "source": [
    "- When a function returns, the local scope is destroyed, and all the variables in it are forgotten."
   ]
  },
  {
   "cell_type": "markdown",
   "id": "ef01a314",
   "metadata": {},
   "source": [
    "#### 7. What is the concept of a return value? Is it possible to have a return value in an expression?"
   ]
  },
  {
   "cell_type": "markdown",
   "id": "980a67b7",
   "metadata": {},
   "source": [
    "- A return value is the value that a function call evaluates to. Like any value, a return value can be used as part of an expression."
   ]
  },
  {
   "cell_type": "markdown",
   "id": "834aecee",
   "metadata": {},
   "source": [
    "\n",
    "#### 8 . If a function does not have a return statement, what is the return value of a call to that function?\n",
    "\n",
    "- If there is no return statement for a function, its return value is None.\n",
    "\n",
    "#### 9. How do you make a function variable refer to the global variable?\n",
    "\n",
    "- A global statement will force a variable in a function to refer to the global variable.\n",
    "\n",
    "\n",
    "#### 10 . What is the data type of None?\n",
    "\n",
    "- The data type of None is NoneType.\n",
    "\n"
   ]
  },
  {
   "cell_type": "markdown",
   "id": "1330a28d",
   "metadata": {},
   "source": [
    "\n",
    "#### 11. What does the sentence import areallyourpetsnamederic do?\n",
    "\n",
    "\n",
    "- That import statement imports a module named areallyourpetsnamederic.\n",
    "\n",
    "\n",
    "#### 12 . If you had a bacon() feature in a spam module, what would you call it after importing spam?\n",
    "\n",
    "\n",
    "- This function can be called with spam.bacon().\n",
    "\n",
    "\n",
    "#### 13 . What can you do to save a programme from crashing if it encounters an error?\n",
    "\n",
    "- Place the line of code that might cause an error in a try clause."
   ]
  },
  {
   "cell_type": "code",
   "execution_count": null,
   "id": "d1188840",
   "metadata": {},
   "outputs": [],
   "source": []
  }
 ],
 "metadata": {
  "kernelspec": {
   "display_name": "Python 3 (ipykernel)",
   "language": "python",
   "name": "python3"
  },
  "language_info": {
   "codemirror_mode": {
    "name": "ipython",
    "version": 3
   },
   "file_extension": ".py",
   "mimetype": "text/x-python",
   "name": "python",
   "nbconvert_exporter": "python",
   "pygments_lexer": "ipython3",
   "version": "3.9.12"
  }
 },
 "nbformat": 4,
 "nbformat_minor": 5
}
