{
 "cells": [
  {
   "cell_type": "markdown",
   "id": "74831abf",
   "metadata": {},
   "source": [
    "<aside>\n",
    "💡 **Question 1**\n",
    "\n",
    "Given an integer `n`, return *`true` if it is a power of three. Otherwise, return `false`*.\n",
    "\n",
    "An integer `n` is a power of three, if there exists an integer `x` such that `n == 3x`.\n",
    "\n",
    "**Example 1:**\n",
    "    Input: n = 27\n",
    "Output: true\n",
    "Explanation: 27 = 33\n",
    "\n",
    "</aside>"
   ]
  },
  {
   "cell_type": "code",
   "execution_count": 1,
   "id": "1a6e5d2c",
   "metadata": {},
   "outputs": [
    {
     "name": "stdout",
     "output_type": "stream",
     "text": [
      "True\n"
     ]
    }
   ],
   "source": [
    "def isPowerOfThree(n):\n",
    "    if n <= 0:\n",
    "        return False\n",
    "    while n % 3 == 0:\n",
    "        n //= 3\n",
    "    return n == 1\n",
    "n = 27\n",
    "result = isPowerOfThree(n)\n",
    "print(result)\n"
   ]
  },
  {
   "cell_type": "markdown",
   "id": "10bf13b7",
   "metadata": {},
   "source": [
    "**Example 2:**\n",
    "Input: n = 0\n",
    "Output: false\n",
    "Explanation: There is no x where 3x = 0.\n"
   ]
  },
  {
   "cell_type": "code",
   "execution_count": 3,
   "id": "5f90c29e",
   "metadata": {},
   "outputs": [
    {
     "name": "stdout",
     "output_type": "stream",
     "text": [
      "False\n"
     ]
    }
   ],
   "source": [
    "n = 0\n",
    "result = isPowerOfThree(n)\n",
    "print(result)\n"
   ]
  },
  {
   "cell_type": "markdown",
   "id": "81c5150a",
   "metadata": {},
   "source": [
    "**Example 3:**\n",
    "Input: n = -1\n",
    "Output: false\n",
    "Explanation: There is no x where 3x = (-1)."
   ]
  },
  {
   "cell_type": "code",
   "execution_count": 4,
   "id": "769ef67f",
   "metadata": {},
   "outputs": [
    {
     "name": "stdout",
     "output_type": "stream",
     "text": [
      "False\n"
     ]
    }
   ],
   "source": [
    "n = -1\n",
    "result = isPowerOfThree(n)\n",
    "print(result)\n"
   ]
  },
  {
   "cell_type": "markdown",
   "id": "98d86704",
   "metadata": {},
   "source": [
    "<aside>\n",
    "💡 **Question 2**\n",
    "\n",
    "You have a list `arr` of all integers in the range `[1, n]` sorted in a strictly increasing order. Apply the following algorithm on `arr`:\n",
    "\n",
    "- Starting from left to right, remove the first number and every other number afterward until you reach the end of the list.\n",
    "- Repeat the previous step again, but this time from right to left, remove the rightmost number and every other number from the remaining numbers.\n",
    "- Keep repeating the steps again, alternating left to right and right to left, until a single number remains.\n",
    "\n",
    "Given the integer `n`, return *the last number that remains in* `arr`.\n",
    "\n",
    "**Example 1:**\n",
    "Input: n = 9\n",
    "Output: 6\n",
    "Explanation:\n",
    "arr = [1, 2,3, 4,5, 6,7, 8,9]\n",
    "arr = [2,4, 6,8]\n",
    "arr = [2, 6]\n",
    "arr = [6]\n",
    "\n",
    "\n",
    "</aside>"
   ]
  },
  {
   "cell_type": "code",
   "execution_count": 6,
   "id": "dcb96cb7",
   "metadata": {},
   "outputs": [
    {
     "name": "stdout",
     "output_type": "stream",
     "text": [
      "6\n"
     ]
    }
   ],
   "source": [
    "def lastRemaining(n):\n",
    "    arr = list(range(1, n + 1))\n",
    "    leftToRight = True\n",
    "    remaining = n\n",
    "    step = 1\n",
    "\n",
    "    while remaining > 1:\n",
    "        if leftToRight:\n",
    "            arr = arr[1::2]\n",
    "        else:\n",
    "            arr = arr[0::2]\n",
    "        remaining //= 2\n",
    "        leftToRight = not leftToRight\n",
    "        step *= 2\n",
    "\n",
    "    return arr[0]\n",
    "\n",
    "n = 9\n",
    "result = lastRemaining(n)\n",
    "print(result)\n"
   ]
  },
  {
   "cell_type": "markdown",
   "id": "8604694b",
   "metadata": {},
   "source": [
    "<aside>\n",
    "💡 **Question 3**\n",
    "\n",
    "****Given a set represented as a string, write a recursive code to print all subsets of it. The subsets can be printed in any order.\n",
    "\n",
    "**Example 1:**\n",
    "\n",
    "Input :  set = “abc”\n",
    "\n",
    "Output : { “”, “a”, “b”, “c”, “ab”, “ac”, “bc”, “abc”}\n",
    "\n",
    "**Example 2:**\n",
    "\n",
    "Input : set = “abcd”\n",
    "\n",
    "Output : { “”, “a” ,”ab” ,”abc” ,”abcd”, “abd” ,”ac” ,”acd”, “ad” ,”b”, “bc” ,”bcd” ,”bd” ,”c” ,”cd” ,”d” }\n",
    "\n",
    "</aside>"
   ]
  },
  {
   "cell_type": "code",
   "execution_count": 7,
   "id": "6402cf3d",
   "metadata": {},
   "outputs": [
    {
     "name": "stdout",
     "output_type": "stream",
     "text": [
      "['', 'c', 'b', 'bc', 'a', 'ac', 'ab', 'abc']\n"
     ]
    }
   ],
   "source": [
    "def subsets(set):\n",
    "    subsets = []\n",
    "\n",
    "    def generateSubsets(current, remaining, index):\n",
    "        if index == len(remaining):\n",
    "            subsets.append(current)\n",
    "        else:\n",
    "            generateSubsets(current, remaining, index + 1)\n",
    "            generateSubsets(current + remaining[index], remaining, index + 1)\n",
    "\n",
    "    generateSubsets(\"\", set, 0)\n",
    "    return subsets\n",
    "\n",
    "set = \"abc\"\n",
    "result = subsets(set)\n",
    "print(result)\n"
   ]
  },
  {
   "cell_type": "markdown",
   "id": "1a6f4529",
   "metadata": {},
   "source": [
    "<aside>\n",
    "💡 **Question 4**\n",
    "\n",
    "Given a string calculate length of the string using recursion.\n",
    "**Example :**\n",
    "    Input : str = \"abcd\"\n",
    "Output :4\n",
    "\n",
    "Input : str = \"GEEKSFORGEEKS\"\n",
    "Output :13\n",
    "\n",
    "</aside>"
   ]
  },
  {
   "cell_type": "code",
   "execution_count": 9,
   "id": "1cddef24",
   "metadata": {},
   "outputs": [
    {
     "name": "stdout",
     "output_type": "stream",
     "text": [
      "4\n"
     ]
    }
   ],
   "source": [
    "def calculateLength(s):\n",
    "    if s == \"\":\n",
    "        return 0\n",
    "    else:\n",
    "        return 1 + calculateLength(s[1:])\n",
    "\n",
    "# Example usage:\n",
    "s = \"abcd\"\n",
    "result = calculateLength(s)\n",
    "print(result)\n"
   ]
  },
  {
   "cell_type": "markdown",
   "id": "c689986d",
   "metadata": {},
   "source": [
    "<aside>\n",
    "💡 **Question 5**\n",
    "\n",
    "We are given a string S, we need to find count of all contiguous substrings starting and ending with same character.\n",
    "\n",
    "**Examples :**\n",
    "    Input  : S = \"abcab\"\n",
    "Output : 7\n",
    "There are 15 substrings of \"abcab\"\n",
    "a, ab, abc, abca, abcab, b, bc, bca\n",
    "bcab, c, ca, cab, a, ab, b\n",
    "Out of the above substrings, there\n",
    "are 7 substrings : a, abca, b, bcab,\n",
    "c, a and b.\n",
    "\n",
    "Input  : S = \"aba\"\n",
    "Output : 4\n",
    "The substrings are a, b, a and aba\n",
    "\n",
    "</aside>"
   ]
  },
  {
   "cell_type": "code",
   "execution_count": 10,
   "id": "0f473faf",
   "metadata": {},
   "outputs": [
    {
     "name": "stdout",
     "output_type": "stream",
     "text": [
      "5\n"
     ]
    }
   ],
   "source": [
    "def countSubstringsWithSameStartAndEnd(S):\n",
    "    count = len(S)\n",
    "    for i in range(1, len(S)):\n",
    "        if S[i] == S[i-1]:\n",
    "            count += i\n",
    "    return count\n",
    "\n",
    "# Example usage:\n",
    "S = \"abcab\"\n",
    "result = countSubstringsWithSameStartAndEnd(S)\n",
    "print(result)\n"
   ]
  },
  {
   "cell_type": "markdown",
   "id": "c5b813ac",
   "metadata": {},
   "source": [
    "<aside>\n",
    "💡 **Question 6**\n",
    "\n",
    "The [tower of Hanoi](https://en.wikipedia.org/wiki/Tower_of_Hanoi) is a famous puzzle where we have three rods and **N** disks. The objective of the puzzle is to move the entire stack to another rod. You are given the number of discs **N**. Initially, these discs are in the rod 1. You need to print all the steps of discs movement so that all the discs reach the 3rd rod. Also, you need to find the total moves.**Note:** The discs are arranged such that the **top disc is numbered 1** and the **bottom-most disc is numbered N**. Also, all the discs have **different sizes** and a bigger disc **cannot** be put on the top of a smaller disc. Refer the provided link to get a better clarity about the puzzle.\n",
    "\n",
    "**Example 1:**\n",
    "    Input:\n",
    "N = 2\n",
    "Output:\n",
    "move disk 1 from rod 1 to rod 2\n",
    "move disk 2 from rod 1 to rod 3\n",
    "move disk 1 from rod 2 to rod 3\n",
    "3\n",
    "Explanation:For N=2 , steps will be\n",
    "as follows in the example and total\n",
    "3 steps will be taken.\n",
    "\n",
    "</aside>"
   ]
  },
  {
   "cell_type": "code",
   "execution_count": 11,
   "id": "3209e01f",
   "metadata": {},
   "outputs": [
    {
     "name": "stdout",
     "output_type": "stream",
     "text": [
      "move disk 1 from rod 1 to rod 2\n",
      "move disk 2 from rod 1 to rod 3\n",
      "move disk 1 from rod 2 to rod 3\n",
      "Total moves: 2\n"
     ]
    }
   ],
   "source": [
    "def towerOfHanoi(N, source, destination, auxiliary):\n",
    "    if N == 1:\n",
    "        print(\"move disk\", N, \"from rod\", source, \"to rod\", destination)\n",
    "        return 1\n",
    "    \n",
    "    count = towerOfHanoi(N-1, source, auxiliary, destination)\n",
    "    \n",
    "    print(\"move disk\", N, \"from rod\", source, \"to rod\", destination)\n",
    "    \n",
    "    count += towerOfHanoi(N-1, auxiliary, destination, source)\n",
    "    \n",
    "    return count\n",
    "\n",
    "# Example usage:\n",
    "N = 2\n",
    "total_moves = towerOfHanoi(N, 1, 3, 2)\n",
    "print(\"Total moves:\", total_moves)\n"
   ]
  },
  {
   "cell_type": "markdown",
   "id": "e0b5fea2",
   "metadata": {},
   "source": [
    "<aside>\n",
    "💡 **Question 7**\n",
    "\n",
    "Given a string **str**, the task is to print all the permutations of **str**. A **permutation** is an arrangement of all or part of a set of objects, with regard to the order of the arrangement. For instance, the words ‘bat’ and ‘tab’ represents two distinct permutation (or arrangements) of a similar three letter word.\n",
    "\n",
    "**Examples:**\n",
    "\n",
    "> Input: str = “cd”\n",
    "> \n",
    "> \n",
    "> **Output:** cd dc\n",
    "> \n",
    "> **Input:** str = “abb”\n",
    "> \n",
    "> **Output:** abb abb bab bba bab bba\n",
    "> \n",
    "</aside>"
   ]
  },
  {
   "cell_type": "code",
   "execution_count": 12,
   "id": "31a532e6",
   "metadata": {},
   "outputs": [
    {
     "name": "stdout",
     "output_type": "stream",
     "text": [
      "abb\n",
      "abb\n",
      "bab\n",
      "bba\n",
      "bba\n",
      "bab\n"
     ]
    }
   ],
   "source": [
    "def permute(str, left, right):\n",
    "    if left == right:\n",
    "        print(str)\n",
    "    else:\n",
    "        for i in range(left, right + 1):\n",
    "            str = swap(str, left, i)\n",
    "            permute(str, left + 1, right)\n",
    "            str = swap(str, left, i)\n",
    "\n",
    "def swap(str, i, j):\n",
    "    chars = list(str)\n",
    "    chars[i], chars[j] = chars[j], chars[i]\n",
    "    return ''.join(chars)\n",
    "\n",
    "# Example usage:\n",
    "str = \"abb\"\n",
    "permute(str, 0, len(str) - 1)\n"
   ]
  },
  {
   "cell_type": "markdown",
   "id": "9a80e5b5",
   "metadata": {},
   "source": [
    "<aside>\n",
    "💡 **Question 8**\n",
    "\n",
    "Given a string, count total number of consonants in it. A consonant is an English alphabet character that is not vowel (a, e, i, o and u). Examples of constants are b, c, d, f, and g.\n",
    "\n",
    "**Examples :**\n",
    "> Input : abc de\n",
    ">\n",
    ">\n",
    ">    **Output:** 3\n",
    ">\n",
    "There are three consonants b, c and d.\n",
    "\n",
    "> Input : geeksforgeeks portal\n",
    "> Output : 12\n",
    "\n",
    "</aside>"
   ]
  },
  {
   "cell_type": "code",
   "execution_count": 13,
   "id": "3195b6f6",
   "metadata": {},
   "outputs": [
    {
     "name": "stdout",
     "output_type": "stream",
     "text": [
      "12\n"
     ]
    }
   ],
   "source": [
    "def count_consonants(string):\n",
    "    count = 0\n",
    "    vowels = ['a', 'e', 'i', 'o', 'u']\n",
    "    string = string.lower()\n",
    "\n",
    "    for char in string:\n",
    "        if char.isalpha() and char not in vowels:\n",
    "            count += 1\n",
    "\n",
    "    return count\n",
    "\n",
    "# Example usage:\n",
    "string = \"geeksforgeeks portal\"\n",
    "result = count_consonants(string)\n",
    "print(result)\n"
   ]
  },
  {
   "cell_type": "code",
   "execution_count": null,
   "id": "b8594633",
   "metadata": {},
   "outputs": [],
   "source": []
  }
 ],
 "metadata": {
  "kernelspec": {
   "display_name": "Python 3 (ipykernel)",
   "language": "python",
   "name": "python3"
  },
  "language_info": {
   "codemirror_mode": {
    "name": "ipython",
    "version": 3
   },
   "file_extension": ".py",
   "mimetype": "text/x-python",
   "name": "python",
   "nbconvert_exporter": "python",
   "pygments_lexer": "ipython3",
   "version": "3.9.12"
  }
 },
 "nbformat": 4,
 "nbformat_minor": 5
}
